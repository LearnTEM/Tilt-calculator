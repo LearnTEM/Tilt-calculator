{
 "cells": [
  {
   "cell_type": "code",
   "execution_count": 34,
   "metadata": {},
   "outputs": [],
   "source": [
    "import numpy as np"
   ]
  },
  {
   "cell_type": "code",
   "execution_count": 35,
   "metadata": {},
   "outputs": [],
   "source": [
    "hkl_demo = np.array([0,0,1])\n",
    "uvw_demo = np.array([1,0,0])\n",
    "ab_demo = np.array([1,0])"
   ]
  },
  {
   "cell_type": "code",
   "execution_count": 36,
   "metadata": {},
   "outputs": [
    {
     "name": "stdout",
     "output_type": "stream",
     "text": [
      "[[1. 0. 0.]\n",
      " [0. 1. 0.]\n",
      " [0. 0. 1.]]\n"
     ]
    }
   ],
   "source": [
    "def x1matrix(hkl: np.ndarray, uvw: np.ndarray, ab: np.ndarray):\n",
    "    uvw_prim = np.cross(hkl, uvw)\n",
    "    # print(uvw_prim)\n",
    "    x1 = np.zeros((3,3), dtype=float)\n",
    "    x1[0,:]=ab[0] * uvw - ab[1] * uvw_prim\n",
    "    x1[1,:]=ab[1] * uvw + ab[0] * uvw_prim\n",
    "    x1[2] = hkl\n",
    "    return x1\n",
    "\n",
    "x1_demo = x1matrix(hkl_demo, uvw_demo, ab_demo)\n",
    "print(x1_demo)"
   ]
  },
  {
   "cell_type": "code",
   "execution_count": 37,
   "metadata": {},
   "outputs": [
    {
     "name": "stdout",
     "output_type": "stream",
     "text": [
      "[[ 1.  0. -0.]\n",
      " [ 0.  1.  0.]\n",
      " [ 0.  0.  1.]]\n",
      "[[ 1.  0.  0.]\n",
      " [ 0.  1. -0.]\n",
      " [ 0.  0.  1.]]\n"
     ]
    }
   ],
   "source": [
    "def matrix_A(alpha):\n",
    "    A = np.array([\n",
    "        [np.cos(alpha), 0, -np.sin(alpha)],\n",
    "        [0, 1, 0],\n",
    "        [np.sin(alpha), 0, np.cos(alpha)]\n",
    "    ])\n",
    "    return A\n",
    "\n",
    "def matrix_B(beta):\n",
    "    B = np.array([\n",
    "        [1, 0, 0],\n",
    "        [0, np.cos(beta), -np.sin(beta)],\n",
    "        [0, np.sin(beta), np.cos(beta)]\n",
    "    ])\n",
    "    return B\n",
    "\n",
    "alpha1_demo = 0\n",
    "beta1_demo = 0\n",
    "A1_demo = matrix_A(alpha=alpha1_demo)\n",
    "B1_demo = matrix_B(beta1_demo)\n",
    "print(A1_demo)\n",
    "print(B1_demo)"
   ]
  },
  {
   "cell_type": "code",
   "execution_count": 38,
   "metadata": {},
   "outputs": [
    {
     "name": "stdout",
     "output_type": "stream",
     "text": [
      "[[1. 0. 0.]\n",
      " [0. 1. 0.]\n",
      " [0. 0. 1.]]\n"
     ]
    }
   ],
   "source": [
    "def U_matrix(A, B, X):\n",
    "    AB = np.matmul(A, B)\n",
    "    U = np.matmul(AB.transpose(), X)\n",
    "    return U\n",
    "\n",
    "U_demo = U_matrix(A1_demo, B1_demo, x1_demo)\n",
    "# print(AB1_demo)\n",
    "print(U_demo)"
   ]
  },
  {
   "cell_type": "code",
   "execution_count": 39,
   "metadata": {},
   "outputs": [
    {
     "name": "stdout",
     "output_type": "stream",
     "text": [
      "[[ 1.  0.  0.]\n",
      " [ 0.  0. -1.]\n",
      " [ 0.  1.  0.]]\n"
     ]
    }
   ],
   "source": [
    "hkl2_demo = np.array([0,1,0])\n",
    "x2_demo = x1matrix(hkl2_demo, uvw_demo, ab_demo)\n",
    "print(x2_demo)"
   ]
  },
  {
   "cell_type": "code",
   "execution_count": 40,
   "metadata": {},
   "outputs": [
    {
     "name": "stdout",
     "output_type": "stream",
     "text": [
      "[[ 1.  0.  0.]\n",
      " [ 0.  0. -1.]\n",
      " [ 0.  1.  0.]]\n"
     ]
    }
   ],
   "source": [
    "AB2_demo = np.matmul(x2_demo, U_demo.transpose())\n",
    "print(AB2_demo)"
   ]
  },
  {
   "cell_type": "code",
   "execution_count": 41,
   "metadata": {},
   "outputs": [
    {
     "name": "stdout",
     "output_type": "stream",
     "text": [
      "-0.0 1.5707963267948966\n"
     ]
    }
   ],
   "source": [
    "def barely_equal(a, b, threshold):\n",
    "    sub = a - b\n",
    "    # print(sub)\n",
    "    distance = (sub*sub).sum()\n",
    "    # print(distance)\n",
    "    if distance < threshold:\n",
    "        return True\n",
    "    else:\n",
    "        return False\n",
    "\n",
    "def ab_from_matrix(AB_mat, threshold):\n",
    "    alpha = np.arcsin(-AB_mat[0,2])\n",
    "    beta = np.arcsin(AB_mat[2,1])\n",
    "    # check matrix part\n",
    "    cosa, sina = np.cos(alpha), np.sin(alpha)\n",
    "    cosb, sinb = np.cos(beta), np.sin(beta)\n",
    "    check_matrix = np.matmul(matrix_A(alpha), matrix_B(beta))\n",
    "    if not barely_equal(AB_mat, check_matrix, threshold):\n",
    "        print(\"AB_mat:\")\n",
    "        print(AB_mat)\n",
    "        print(\"check_matrix\")\n",
    "        print(check_matrix)\n",
    "    return alpha, beta\n",
    "    \n",
    "alpha2_demo, beta2_demo = ab_from_matrix(AB2_demo, threshold=1.0)\n",
    "print(alpha2_demo, beta2_demo)"
   ]
  },
  {
   "cell_type": "code",
   "execution_count": 42,
   "metadata": {},
   "outputs": [
    {
     "name": "stdout",
     "output_type": "stream",
     "text": [
      "Package                 Version\n",
      "----------------------- ---------\n",
      "anyio                   3.5.0\n",
      "appnope                 0.1.2\n",
      "argon2-cffi             21.3.0\n",
      "argon2-cffi-bindings    21.2.0\n",
      "asttokens               2.0.5\n",
      "attrs                   23.1.0\n",
      "backcall                0.2.0\n",
      "beautifulsoup4          4.12.2\n",
      "bleach                  4.1.0\n",
      "boltons                 23.0.0\n",
      "brotlipy                0.7.0\n",
      "certifi                 2023.7.22\n",
      "cffi                    1.15.1\n",
      "charset-normalizer      2.0.4\n",
      "comm                    0.1.2\n",
      "conda                   23.9.0\n",
      "conda-content-trust     0.2.0\n",
      "conda-libmamba-solver   23.9.1\n",
      "conda-package-handling  2.2.0\n",
      "conda_package_streaming 0.9.0\n",
      "contourpy               1.0.5\n",
      "cryptography            41.0.3\n",
      "cycler                  0.11.0\n",
      "debugpy                 1.6.7\n",
      "decorator               5.1.1\n",
      "defusedxml              0.7.1\n",
      "entrypoints             0.4\n",
      "executing               0.8.3\n",
      "fastjsonschema          2.16.2\n",
      "fonttools               4.25.0\n",
      "idna                    3.4\n",
      "ipykernel               6.25.0\n",
      "ipympl                  0.8.7\n",
      "ipython                 8.15.0\n",
      "ipython-genutils        0.2.0\n",
      "ipywidgets              7.6.5\n",
      "jedi                    0.18.1\n",
      "Jinja2                  3.1.2\n",
      "jsonpatch               1.32\n",
      "jsonpointer             2.1\n",
      "jsonschema              4.17.3\n",
      "jupyter_client          7.4.9\n",
      "jupyter_core            5.3.0\n",
      "jupyter-server          1.23.4\n",
      "jupyterlab-pygments     0.1.2\n",
      "jupyterlab-widgets      3.0.5\n",
      "kiwisolver              1.4.4\n",
      "libmambapy              1.5.1\n",
      "lxml                    4.9.3\n",
      "MarkupSafe              2.1.1\n",
      "matplotlib              3.7.2\n",
      "matplotlib-inline       0.1.6\n",
      "mistune                 0.8.4\n",
      "munkres                 1.1.4\n",
      "nbclassic               0.5.5\n",
      "nbclient                0.5.13\n",
      "nbconvert               6.5.4\n",
      "nbformat                5.9.2\n",
      "nest-asyncio            1.5.6\n",
      "notebook                6.5.4\n",
      "notebook_shim           0.2.2\n",
      "numpy                   1.26.0\n",
      "packaging               23.1\n",
      "pandocfilters           1.5.0\n",
      "parso                   0.8.3\n",
      "pexpect                 4.8.0\n",
      "pickleshare             0.7.5\n",
      "Pillow                  10.0.1\n",
      "pip                     23.2.1\n",
      "platformdirs            3.10.0\n",
      "pluggy                  1.0.0\n",
      "prometheus-client       0.14.1\n",
      "prompt-toolkit          3.0.36\n",
      "psutil                  5.9.0\n",
      "ptyprocess              0.7.0\n",
      "pure-eval               0.2.2\n",
      "pycosat                 0.6.6\n",
      "pycparser               2.21\n",
      "Pygments                2.15.1\n",
      "pyOpenSSL               23.2.0\n",
      "pyparsing               3.0.9\n",
      "pyrsistent              0.18.0\n",
      "PySocks                 1.7.1\n",
      "python-dateutil         2.8.2\n",
      "pyzmq                   23.2.0\n",
      "requests                2.31.0\n",
      "ruamel.yaml             0.17.21\n",
      "Send2Trash              1.8.0\n",
      "setuptools              68.0.0\n",
      "six                     1.16.0\n",
      "sniffio                 1.2.0\n",
      "soupsieve               2.5\n",
      "stack-data              0.2.0\n",
      "terminado               0.17.1\n",
      "tinycss2                1.2.1\n",
      "tornado                 6.3.3\n",
      "tqdm                    4.65.0\n",
      "traitlets               5.7.1\n",
      "truststore              0.8.0\n",
      "typing_extensions       4.7.1\n",
      "urllib3                 1.26.16\n",
      "wcwidth                 0.2.5\n",
      "webencodings            0.5.1\n",
      "websocket-client        0.58.0\n",
      "wheel                   0.41.2\n",
      "widgetsnbextension      3.5.2\n",
      "zstandard               0.19.0\n"
     ]
    }
   ],
   "source": [
    "!pip list"
   ]
  }
 ],
 "metadata": {
  "kernelspec": {
   "display_name": "base",
   "language": "python",
   "name": "python3"
  },
  "language_info": {
   "codemirror_mode": {
    "name": "ipython",
    "version": 3
   },
   "file_extension": ".py",
   "mimetype": "text/x-python",
   "name": "python",
   "nbconvert_exporter": "python",
   "pygments_lexer": "ipython3",
   "version": "3.11.5"
  }
 },
 "nbformat": 4,
 "nbformat_minor": 2
}
